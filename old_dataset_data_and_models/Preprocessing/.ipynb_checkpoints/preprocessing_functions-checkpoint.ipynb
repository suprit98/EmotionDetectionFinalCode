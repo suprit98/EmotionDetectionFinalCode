{
 "cells": [
  {
   "cell_type": "code",
   "execution_count": 1,
   "metadata": {},
   "outputs": [],
   "source": [
    "import re\n",
    "import csv\n",
    "import numpy as np\n",
    "import pandas as pd\n",
    "import nltk\n",
    "from textblob import TextBlob\n",
    "import ssl\n",
    "import os\n",
    "import string"
   ]
  },
  {
   "cell_type": "code",
   "execution_count": 2,
   "metadata": {},
   "outputs": [],
   "source": [
    "'''\n",
    "Remove patterns from text like @abc\n",
    "'''\n",
    "def remove_pattern(text,pattern):\n",
    "    r = re.findall(pattern,text)\n",
    "    for i in r:\n",
    "        text = re.sub(i,'',text)\n",
    "    return text"
   ]
  },
  {
   "cell_type": "code",
   "execution_count": 3,
   "metadata": {},
   "outputs": [
    {
     "name": "stdout",
     "output_type": "stream",
     "text": [
      "bksfbvkfbk sjbfksbv jkbvksjfbv  jkbfjksbvjkfb  bkk\n"
     ]
    }
   ],
   "source": [
    "txt = remove_pattern(\"bksfbvkfbk sjbfksbv jkbvksjfbv @hello jkbfjksbvjkfb @bj12 bkk\",\"@[\\w]*\")\n",
    "print(txt)"
   ]
  },
  {
   "cell_type": "code",
   "execution_count": 4,
   "metadata": {},
   "outputs": [
    {
     "name": "stdout",
     "output_type": "stream",
     "text": [
      "asdf nkjdbdsj 1234 #abcd              \n"
     ]
    }
   ],
   "source": [
    "'''\n",
    "Remove punctuations, numbers, special characters etc\n",
    "'''\n",
    "def remove_special_characters(txt):\n",
    "    txt = re.sub(\"[^a-zA-Z0-9#\\s]\",\" \",txt)\n",
    "    return txt\n",
    "\n",
    "print(remove_special_characters(\"asdf nkjdbdsj 1234 #abcd !! @$%^& ,, .\"))"
   ]
  },
  {
   "cell_type": "code",
   "execution_count": 5,
   "metadata": {},
   "outputs": [],
   "source": [
    "'''\n",
    "Tokenization\n",
    "'''\n",
    "def tokenize(text):\n",
    "    tokenized_text = text.split()\n",
    "    return tokenized_text"
   ]
  },
  {
   "cell_type": "code",
   "execution_count": 6,
   "metadata": {},
   "outputs": [
    {
     "name": "stdout",
     "output_type": "stream",
     "text": [
      "['Just', 'got', 'back', 'seeing', 'Burslem.', 'AMAZING!!', 'Face']\n"
     ]
    }
   ],
   "source": [
    "txt = \"Just got back seeing Burslem. AMAZING!! Face\"\n",
    "tokenized_text = tokenize(txt)\n",
    "print(tokenized_text)"
   ]
  },
  {
   "cell_type": "code",
   "execution_count": 7,
   "metadata": {},
   "outputs": [],
   "source": [
    "'''\n",
    "Convertion To Lowercase \n",
    "'''\n",
    "def lowercase(text):\n",
    "    lower_text = text.lower()\n",
    "    return lower_text"
   ]
  },
  {
   "cell_type": "code",
   "execution_count": 8,
   "metadata": {},
   "outputs": [
    {
     "name": "stdout",
     "output_type": "stream",
     "text": [
      "just got back seeing burslem. amazing!! face\n"
     ]
    }
   ],
   "source": [
    "txt = \"Just got back seeing Burslem. AMAZING!! Face\"\n",
    "lower_text = lowercase(txt)\n",
    "print(lower_text)"
   ]
  },
  {
   "cell_type": "code",
   "execution_count": 9,
   "metadata": {},
   "outputs": [],
   "source": [
    "'''\n",
    "Stemming\n",
    "'''\n",
    "from nltk.stem.porter import *\n",
    "def stem(tokenized_text):\n",
    "    stemmer = PorterStemmer()\n",
    "    lemma = nltk.wordnet.WordNetLemmatizer()\n",
    "    stemmed_text = []\n",
    "    for tx in tokenized_text:\n",
    "        tx = stemmer.stem(tx)\n",
    "        stemmed_text.append(tx)\n",
    "#     print(stemmed_text)\n",
    "    return stemmed_text\n",
    "    "
   ]
  },
  {
   "cell_type": "code",
   "execution_count": 10,
   "metadata": {},
   "outputs": [
    {
     "name": "stdout",
     "output_type": "stream",
     "text": [
      "['happi']\n"
     ]
    }
   ],
   "source": [
    "print(stem([\"happy\"]))"
   ]
  },
  {
   "cell_type": "code",
   "execution_count": 11,
   "metadata": {},
   "outputs": [
    {
     "name": "stdout",
     "output_type": "stream",
     "text": [
      "['play', 'play', 'hilar']\n"
     ]
    }
   ],
   "source": [
    "tokenized_text = [\"played\",\"playing\",\"hilarity\"]\n",
    "tokenized_text = stem(tokenized_text)\n",
    "print(tokenized_text)"
   ]
  },
  {
   "cell_type": "code",
   "execution_count": 12,
   "metadata": {},
   "outputs": [],
   "source": [
    "'''\n",
    "Removing Stop words\n",
    "'''\n",
    "from nltk.corpus import stopwords\n",
    "def remove_stopwords(text):\n",
    "    text = text.split()\n",
    "    stop = stopwords.words(\"english\")\n",
    "    new_text = \"\"\n",
    "    for tx in text:\n",
    "        if tx not in stop:\n",
    "            new_text += tx + \" \"\n",
    "    return new_text"
   ]
  },
  {
   "cell_type": "code",
   "execution_count": 13,
   "metadata": {},
   "outputs": [
    {
     "name": "stdout",
     "output_type": "stream",
     "text": [
      "Hello I healthy \n"
     ]
    }
   ],
   "source": [
    "text = \"Hello I am healthy\"\n",
    "new_text = remove_stopwords(text)\n",
    "print(new_text)"
   ]
  },
  {
   "cell_type": "code",
   "execution_count": 31,
   "metadata": {},
   "outputs": [],
   "source": [
    "# TODO Converting Abbreviations\n",
    "# TODO Spelling Corrections\n",
    "# TODO Emojis"
   ]
  },
  {
   "cell_type": "code",
   "execution_count": 14,
   "metadata": {},
   "outputs": [
    {
     "name": "stdout",
     "output_type": "stream",
     "text": [
      "set swept sweet sweet sweet swept sweet sweet love corrected bookkeeper murat Murat ogg oh clarity\n"
     ]
    }
   ],
   "source": [
    "from textblob import TextBlob\n",
    " \n",
    "data = \"swet swett sweet sweett swwet swwett swweet swweett luve korrectud bookkeeper surat Surat omgg oh hilarity\"\n",
    " \n",
    "output = TextBlob(data).correct()\n",
    "print(output)"
   ]
  },
  {
   "cell_type": "code",
   "execution_count": 15,
   "metadata": {},
   "outputs": [],
   "source": [
    "def spell_corrector(words):\n",
    "    '''tagged_text = nltk.tag.pos_tag(text.split())\n",
    "    edited_tagged_text = [word for word,tag in tagged_text if tag!='NNP' and tag!='NNPS']\n",
    "    edited_text = ' '.join(edited_tagged_text)\n",
    "    #print(tagged_text)\n",
    "    #Removing repeated characters to be done before expanding abbreviations\n",
    "    new_edited_text = \"\"\n",
    "    for word in edited_text.split():\n",
    "        if len(word)>=2:\n",
    "            new_word = word[0] + word[1]\n",
    "            ct=2\n",
    "            for i in range(2,len(word)):\n",
    "                if not(word[i]==new_word[ct-1] and word[i]==new_word[ct-2]):\n",
    "                    new_word=new_word + word[i]\n",
    "                    ct=ct+1\n",
    "        else:\n",
    "            new_word = word\n",
    "        new_edited_text = new_edited_text + \" \" + new_word\n",
    "    new_edited_text = TextBlob(new_edited_text).correct()\n",
    "    return new_edited_text'''\n",
    "    corrected_word_list = []\n",
    "    for word in words:\n",
    "        if len(word)>=2:\n",
    "            new_word = word[0] + word[1]\n",
    "            ct=2\n",
    "            for i in range(2,len(word)):\n",
    "                if not(word[i]==new_word[ct-1] and word[i]==new_word[ct-2]):\n",
    "                    new_word=new_word + word[i]\n",
    "                    ct=ct+1\n",
    "        else:\n",
    "            new_word = word\n",
    "        new_word = TextBlob(new_word).correct()\n",
    "        corrected_word_list.append(str(new_word))\n",
    "    print(corrected_word_list)\n",
    "    return corrected_word_list"
   ]
  },
  {
   "cell_type": "code",
   "execution_count": 16,
   "metadata": {},
   "outputs": [
    {
     "name": "stdout",
     "output_type": "stream",
     "text": [
      "['the', 'good', 'Pain']\n",
      "['the', 'good', 'Pain']\n"
     ]
    }
   ],
   "source": [
    "print(spell_corrector(['thr','godd','Layin']))"
   ]
  },
  {
   "cell_type": "code",
   "execution_count": 22,
   "metadata": {},
   "outputs": [],
   "source": [
    "# # Abreviations processing starts here\n",
    "# # creating delimited file(formattedList.txt) from raw file(abbreviation.txt)\n",
    "\n",
    "\n",
    "# file = open(\"F:\\EmotionDetection\\Abbreviation_data\\Abbreviation.txt\",\"r\")\n",
    "# result_file=open(\"F:\\EmotionDetection\\Abbreviation_data\\\\formattedList.txt\",\"w\")\n",
    "# while True:\n",
    "#     a=file.readline()\n",
    "#     b=file.readline()\n",
    "#     a=a.upper()\n",
    "#     b=b.lower()\n",
    "    \n",
    "#     c=a[0:-1]+\"=\"+b\n",
    "#     result_file.write(c)\n",
    "#     if (not a or not b):\n",
    "#         break\n",
    "\n",
    "        \n",
    "# result_file.close()\n",
    "# file.close()"
   ]
  },
  {
   "cell_type": "code",
   "execution_count": 23,
   "metadata": {},
   "outputs": [],
   "source": [
    "# function for expansion of abbreviations\n",
    "\n",
    "def translator(user_list):\n",
    "    j = 0\n",
    "    HOME_FOLDER = \"./Abbreviation_data/\"\n",
    "    #fileName = \"F:\\EmotionDetection\\Abbreviation_data\\\\formattedList.txt\"\n",
    "    fileName = os.path.join(HOME_FOLDER,\"formattedList.txt\")\n",
    "    accessMode = \"r\"\n",
    "    return_list = []\n",
    "    for user_string in user_list:\n",
    "        with open(fileName, accessMode) as myCSVfile:\n",
    "            dataFromFile = csv.reader(myCSVfile, delimiter=\"=\")\n",
    "            user_string = re.sub('[^a-zA-Z0-9]', '', user_string)\n",
    "            for row in dataFromFile:\n",
    "                if user_string.upper() == row[0]:\n",
    "                    user_string = row[1]\n",
    "            myCSVfile.close()\n",
    "        #print(user_string)\n",
    "        return_list.append(user_string)\n",
    "    #print(return_list)\n",
    "    return return_list\n",
    "\n"
   ]
  },
  {
   "cell_type": "code",
   "execution_count": 27,
   "metadata": {},
   "outputs": [
    {
     "data": {
      "text/plain": [
       "['oh my god', 'thank you', 'tomorrow']"
      ]
     },
     "execution_count": 27,
     "metadata": {},
     "output_type": "execute_result"
    }
   ],
   "source": [
    "translator([\"OMG\",\"ty\",\"2moro\"])"
   ]
  },
  {
   "cell_type": "code",
   "execution_count": null,
   "metadata": {},
   "outputs": [],
   "source": []
  }
 ],
 "metadata": {
  "kernelspec": {
   "display_name": "Python 3",
   "language": "python",
   "name": "python3"
  },
  "language_info": {
   "codemirror_mode": {
    "name": "ipython",
    "version": 3
   },
   "file_extension": ".py",
   "mimetype": "text/x-python",
   "name": "python",
   "nbconvert_exporter": "python",
   "pygments_lexer": "ipython3",
   "version": "3.7.6"
  }
 },
 "nbformat": 4,
 "nbformat_minor": 2
}
