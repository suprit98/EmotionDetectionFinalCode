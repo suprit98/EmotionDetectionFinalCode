{
 "cells": [
  {
   "cell_type": "code",
   "execution_count": 0,
   "metadata": {
    "colab": {},
    "colab_type": "code",
    "id": "TqL_uK8O-XcI"
   },
   "outputs": [],
   "source": [
    "#imports of libraries required\n",
    "import os\n",
    "import re\n",
    "import json\n",
    "import pandas as pd\n",
    "from pathlib import Path"
   ]
  },
  {
   "cell_type": "code",
   "execution_count": 0,
   "metadata": {
    "colab": {},
    "colab_type": "code",
    "id": "119Dv2Po-emj"
   },
   "outputs": [],
   "source": [
    "#Loading of query_relations.json file. This file contains the hashtags and emojis associated with each emotion\n",
    "relations_path = Path('query_relations.json')\n",
    "with relations_path.open('r') as file:\n",
    "    relations = json.load(file)"
   ]
  },
  {
   "cell_type": "code",
   "execution_count": 0,
   "metadata": {
    "colab": {
     "base_uri": "https://localhost:8080/",
     "height": 85
    },
    "colab_type": "code",
    "id": "u1wOrf-idYTm",
    "outputId": "b51c6329-774a-4440-d3a0-e445e5861f22"
   },
   "outputs": [
    {
     "name": "stdout",
     "output_type": "stream",
     "text": [
      "Requirement already satisfied: GetOldTweets3 in /usr/local/lib/python3.6/dist-packages (0.0.11)\n",
      "Requirement already satisfied: pyquery>=1.2.10 in /usr/local/lib/python3.6/dist-packages (from GetOldTweets3) (1.4.1)\n",
      "Requirement already satisfied: lxml>=3.5.0 in /usr/local/lib/python3.6/dist-packages (from GetOldTweets3) (4.2.6)\n",
      "Requirement already satisfied: cssselect>0.7.9 in /usr/local/lib/python3.6/dist-packages (from pyquery>=1.2.10->GetOldTweets3) (1.1.0)\n"
     ]
    }
   ],
   "source": [
    "#If on colab, execute for installing GetOldTweets library\n",
    "!pip install GetOldTweets3"
   ]
  },
  {
   "cell_type": "code",
   "execution_count": 0,
   "metadata": {
    "colab": {
     "base_uri": "https://localhost:8080/",
     "height": 34
    },
    "colab_type": "code",
    "id": "y4gxLEDK-xL7",
    "outputId": "fd245647-67f8-4824-d735-17019d23aba8"
   },
   "outputs": [
    {
     "name": "stdout",
     "output_type": "stream",
     "text": [
      "[':crying_face:', '#sad', '#depressed', ':pensive_face:', ':loudly_crying_face:', ':broken_heart:', '#depression']\n"
     ]
    }
   ],
   "source": [
    "emotion = 'sadness'\n",
    "queries = [key for key, value in relations.items() if value == emotion]\n",
    "print(queries)"
   ]
  },
  {
   "cell_type": "code",
   "execution_count": 0,
   "metadata": {
    "colab": {},
    "colab_type": "code",
    "id": "tJYG_oXE-7BC"
   },
   "outputs": [],
   "source": [
    "#Authentication tokens\n",
    "consumer_key = \"\"\n",
    "consumer_secret = \"\"\n",
    "access_token = \"\"\n",
    "access_token_secret = \"\""
   ]
  },
  {
   "cell_type": "code",
   "execution_count": 0,
   "metadata": {
    "colab": {},
    "colab_type": "code",
    "id": "oH6iXfxgBBM6"
   },
   "outputs": [],
   "source": [
    "#Tweepy related imports\n",
    "from tweepy import OAuthHandler, API, TweepError"
   ]
  },
  {
   "cell_type": "code",
   "execution_count": 0,
   "metadata": {
    "colab": {
     "base_uri": "https://localhost:8080/",
     "height": 34
    },
    "colab_type": "code",
    "id": "xA-R4l40BH2G",
    "outputId": "1af5587a-fc90-4aaf-8dee-34e3fa251fa5"
   },
   "outputs": [
    {
     "name": "stdout",
     "output_type": "stream",
     "text": [
      "Successfully connected to the Twitter API.\n"
     ]
    }
   ],
   "source": [
    "#Authentication for tweepy\n",
    "auth = OAuthHandler(consumer_key, consumer_secret)\n",
    "auth.set_access_token(access_token, access_token_secret)\n",
    "api = API(auth)\n",
    "print('Successfully connected to the Twitter API.')"
   ]
  },
  {
   "cell_type": "code",
   "execution_count": 0,
   "metadata": {
    "colab": {},
    "colab_type": "code",
    "id": "3A_vu4i5BKUe"
   },
   "outputs": [],
   "source": [
    "#query for fetching tweets (hashtag or emoji)\n",
    "query = '#depression'\n",
    "max_requests = 90"
   ]
  },
  {
   "cell_type": "code",
   "execution_count": 0,
   "metadata": {
    "colab": {
     "base_uri": "https://localhost:8080/",
     "height": 34
    },
    "colab_type": "code",
    "id": "A8I8I1fEBQoM",
    "outputId": "5fa8ef72-1f00-4144-b54e-63edd04416ec"
   },
   "outputs": [
    {
     "name": "stdout",
     "output_type": "stream",
     "text": [
      "Requirement already satisfied: emoji in /usr/local/lib/python3.6/dist-packages (0.5.4)\n"
     ]
    }
   ],
   "source": [
    "#If on colab, execute for installing emoji library\n",
    "!pip install emoji\n",
    "from emoji import emojize"
   ]
  },
  {
   "cell_type": "code",
   "execution_count": 0,
   "metadata": {
    "colab": {
     "base_uri": "https://localhost:8080/",
     "height": 102
    },
    "colab_type": "code",
    "id": "_76bQHlOdrHj",
    "outputId": "934507a1-8320-4b71-ea84-e30101d0ca4e"
   },
   "outputs": [
    {
     "name": "stdout",
     "output_type": "stream",
     "text": [
      "2015\n",
      "2013\n",
      "2017\n",
      "2018\n",
      "2019\n"
     ]
    }
   ],
   "source": [
    "#Fetching tweets related to the hashtag query for each year in the years list. Execute when query is hashtag\n",
    "import GetOldTweets3 as got\n",
    "years = [\"2015\",\"2013\",\"2017\",\"2018\",\"2019\"]\n",
    "tweets = []\n",
    "for year in years:\n",
    "  print(year)\n",
    "  tweetCriteria = got.manager.TweetCriteria().setQuerySearch(query + \" lang:en\").setSince(year + \"-01-01\").setUntil(year+\"-12-31\").setEmoji(\"unicode\").setMaxTweets(2000)\n",
    "  tweets_year = got.manager.TweetManager.getTweets(tweetCriteria)\n",
    "  tweets.extend(tweets_year)"
   ]
  },
  {
   "cell_type": "code",
   "execution_count": 0,
   "metadata": {
    "colab": {
     "base_uri": "https://localhost:8080/",
     "height": 51
    },
    "colab_type": "code",
    "id": "aXsG6-6LBS0y",
    "outputId": "e751e046-76e1-4dcd-826f-a6b91aec5232"
   },
   "outputs": [
    {
     "name": "stdout",
     "output_type": "stream",
     "text": [
      "0\n",
      "1\n"
     ]
    }
   ],
   "source": [
    "#Fetching tweets related to the emoji query. Execute when query is an emoji\n",
    "q = emojize(query) + ' -filter:retweets'\n",
    "searched_tweets = []\n",
    "last_id = -1\n",
    "request_count = 0\n",
    "while request_count < max_requests:\n",
    "    print(request_count)\n",
    "    try:\n",
    "        new_tweets = api.search(q=q,\n",
    "                                lang='en',\n",
    "                                count=100,\n",
    "                                max_id=str(last_id - 1),\n",
    "                                tweet_mode='extended')\n",
    "        if not new_tweets:\n",
    "            break\n",
    "        searched_tweets.extend(new_tweets)\n",
    "        last_id = new_tweets[-1].id\n",
    "        request_count += 1\n",
    "    except TweepError as e:\n",
    "        print(e)\n",
    "        break"
   ]
  },
  {
   "cell_type": "code",
   "execution_count": 0,
   "metadata": {
    "colab": {
     "base_uri": "https://localhost:8080/",
     "height": 34
    },
    "colab_type": "code",
    "id": "3T6jGwCtBvZo",
    "outputId": "27276b7f-156f-4a39-d973-dc4353c05a93"
   },
   "outputs": [
    {
     "name": "stdout",
     "output_type": "stream",
     "text": [
      "10000 #depression tweets\n"
     ]
    }
   ],
   "source": [
    "#Converted into dataframe\n",
    "data = []\n",
    "for tweet in tweets:\n",
    "    data.append([tweet.id, tweet.username, tweet.text])\n",
    "df = pd.DataFrame(data=data, columns=['id', 'user', 'text'])\n",
    "print(str(len(data)) + ' ' + query + ' tweets')"
   ]
  },
  {
   "cell_type": "code",
   "execution_count": 0,
   "metadata": {
    "colab": {
     "base_uri": "https://localhost:8080/",
     "height": 204
    },
    "colab_type": "code",
    "id": "uFS5U0JTIpj9",
    "outputId": "4e4ddceb-d59a-4942-e915-a37c3a1ae866"
   },
   "outputs": [
    {
     "data": {
      "text/html": [
       "<div>\n",
       "<style scoped>\n",
       "    .dataframe tbody tr th:only-of-type {\n",
       "        vertical-align: middle;\n",
       "    }\n",
       "\n",
       "    .dataframe tbody tr th {\n",
       "        vertical-align: top;\n",
       "    }\n",
       "\n",
       "    .dataframe thead th {\n",
       "        text-align: right;\n",
       "    }\n",
       "</style>\n",
       "<table border=\"1\" class=\"dataframe\">\n",
       "  <thead>\n",
       "    <tr style=\"text-align: right;\">\n",
       "      <th></th>\n",
       "      <th>id</th>\n",
       "      <th>user</th>\n",
       "      <th>text</th>\n",
       "    </tr>\n",
       "  </thead>\n",
       "  <tbody>\n",
       "    <tr>\n",
       "      <th>0</th>\n",
       "      <td>682350216482258944</td>\n",
       "      <td>giantrat</td>\n",
       "      <td>2015: when music destroyed #mentalhealth stigm...</td>\n",
       "    </tr>\n",
       "    <tr>\n",
       "      <th>1</th>\n",
       "      <td>682350216436137985</td>\n",
       "      <td>AlignTherapyUK</td>\n",
       "      <td>2015: when music destroyed #mentalhealth stigm...</td>\n",
       "    </tr>\n",
       "    <tr>\n",
       "      <th>2</th>\n",
       "      <td>682349307853406208</td>\n",
       "      <td>singforgood</td>\n",
       "      <td>Be happy in 2016. Enjoy a special #HealthyMeSu...</td>\n",
       "    </tr>\n",
       "    <tr>\n",
       "      <th>3</th>\n",
       "      <td>682349295396323328</td>\n",
       "      <td>CreativityAust</td>\n",
       "      <td>Be happy in 2016. Enjoy a special #HealthyMeSu...</td>\n",
       "    </tr>\n",
       "    <tr>\n",
       "      <th>4</th>\n",
       "      <td>682348727126876160</td>\n",
       "      <td>facebookguide2</td>\n",
       "      <td>RT screwdepblog Tell me which cover looks bett...</td>\n",
       "    </tr>\n",
       "  </tbody>\n",
       "</table>\n",
       "</div>"
      ],
      "text/plain": [
       "                   id  ...                                               text\n",
       "0  682350216482258944  ...  2015: when music destroyed #mentalhealth stigm...\n",
       "1  682350216436137985  ...  2015: when music destroyed #mentalhealth stigm...\n",
       "2  682349307853406208  ...  Be happy in 2016. Enjoy a special #HealthyMeSu...\n",
       "3  682349295396323328  ...  Be happy in 2016. Enjoy a special #HealthyMeSu...\n",
       "4  682348727126876160  ...  RT screwdepblog Tell me which cover looks bett...\n",
       "\n",
       "[5 rows x 3 columns]"
      ]
     },
     "execution_count": 41,
     "metadata": {
      "tags": []
     },
     "output_type": "execute_result"
    }
   ],
   "source": [
    "df.head()"
   ]
  },
  {
   "cell_type": "code",
   "execution_count": 0,
   "metadata": {
    "colab": {},
    "colab_type": "code",
    "id": "H7G_NiXhItsj"
   },
   "outputs": [],
   "source": [
    "#Save to tweepy folder\n",
    "PATH = Path('/tweepy').resolve()\n",
    "filename = query + '.csv'\n",
    "df.to_csv(os.path.join(PATH, filename), index=None)\n",
    "print('Saved under: \"' + PATH.as_posix() + '\"')"
   ]
  },
  {
   "cell_type": "code",
   "execution_count": 0,
   "metadata": {
    "colab": {},
    "colab_type": "code",
    "id": "YZRq5PDrJAK5"
   },
   "outputs": [],
   "source": []
  }
 ],
 "metadata": {
  "accelerator": "GPU",
  "colab": {
   "collapsed_sections": [],
   "name": "Load_Initial_Dataset.ipynb",
   "provenance": []
  },
  "kernelspec": {
   "display_name": "Python 3",
   "language": "python",
   "name": "python3"
  },
  "language_info": {
   "codemirror_mode": {
    "name": "ipython",
    "version": 3
   },
   "file_extension": ".py",
   "mimetype": "text/x-python",
   "name": "python",
   "nbconvert_exporter": "python",
   "pygments_lexer": "ipython3",
   "version": "3.6.5"
  }
 },
 "nbformat": 4,
 "nbformat_minor": 1
}
